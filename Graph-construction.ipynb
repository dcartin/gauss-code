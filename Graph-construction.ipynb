{
 "cells": [
  {
   "cell_type": "markdown",
   "id": "2113de83-6e10-4551-810c-afa03163abfd",
   "metadata": {},
   "source": [
    "# Construction of Gauss codes\n",
    "\n",
    "This notebook explains the method used to construct 4-regular graphs with an arbitrary number of nodes. The main idea is to iteratively splice together (not necessarily distinct) edges to create new nodes. Two edges can be spliced together only if they are both boundaries of the same face of the graph, with the edges having orientations with the same rotation around the common face. This is shown schematically in the diagram below.\n",
    "\n",
    "![](img/splice-01.png)\n",
    "\n",
    "To do this, the graph is built out of a series of objects.\n",
    "\n",
    "* A `Symbol` object `a` represents the nodes themselves. For an orientation-signed Gauss code, there will be a superscript (described later) to show how the Eulerian circuit passes through the other edge, so that each symbol will be either $a^+$ or $a^-$.\n",
    "* An `Edge` object goes from one `Symbol` to another. Thus, it is represented by an ordered pair `(a, b)` to show that the orientation is from the `Symbol` `a` to the `Symbol` `b`. Edges will be denoted by $e_i$ in this notebook.\n",
    "* A `Graph` object consists of a doubly linked list of `Edge` objects, giving the Eulerian circuit through the 4-regular graph. The `Graph` object also keeps track of all information needed to splice together two edges, and to report out the final Gauss code for the graph."
   ]
  },
  {
   "cell_type": "markdown",
   "id": "1ae2d8b9-4420-4aa6-8e8a-b7a8c4e844ad",
   "metadata": {
    "tags": []
   },
   "source": [
    "## Gauss codes\n",
    "\n",
    "A 4-regular graph can be represented by a Gauss code. There are several varieties of these codes. Since there are four edges incident to each node, it is always possible to find an Eulerian circuit through the graph, so that the circuit passes through each node from one edge to the one directly opposite (i.e. not one of the two incident edges adjacent to the incoming edge). The basic idea of a Gauss code is to start at an arbitrary point on an edge, distinct from a node, and travel along the circuit. As one passes through a new node, label the node with a symbol, and keep a list of these symbols in the order they are reached. Since each node is crossed twice by the Eulerian circuit, each symbol will appear twice in the list. This results in an **unsigned Gauss code**. An example of a 4-regular graph is shown in the figure below; starting from the left of the node $a$, the unsigned Gauss code for this graph is $abcadcbd$. This code gives the total number of nodes of the graph, and the connectivity of the nodes, but it does not give enough information to determine whether the graph is realizable.\n",
    "\n",
    "![](./img/graph-example.png)\n",
    "\n",
    "One way of providing information on whether the graph is realizable is to describe how the Eulerian circuit passes through each node. This can be done in an **orientation-signed Gauss code**. Suppose one is traveling along the circuit through a node $a$, and want to record the orientations of the edges incident to the node. If the other edges point right-to-left through the same node, then the symbol is given as $a^+$ in the orientation-signed Gauss code; otherwise, it is written as $a^-$. This notation is given in the diagram below. From this, the orientation-signed Gauss code for the graph given above, with the same starting point, is $a^+ b^+ c^- a^- d^+ c^+ b^- d^-$. Each symbol appears twice, once with one of the two superscripts $\\{+, -\\}$, and the second time with its opposite.\n",
    "\n",
    "![](./img/orient-sign.png)\n",
    "\n",
    "Another use of signs in the superscripts is to keep track of the crossing types for a knot or graph; this gives rise to a **crossing-signed Gauss code**. Such a code would include information about over- and undercrossings, as well as node types for knotted graphs. This will not be of importance in the methods presented here, but is mentioned to avoid confusion. **Extended Gauss codes** may combine these two sign types, by e.g. adding in additional symbols to represent one or the other type of information."
   ]
  },
  {
   "cell_type": "markdown",
   "id": "5808b1eb-421c-4815-992d-8aa38a9ab723",
   "metadata": {
    "tags": []
   },
   "source": [
    "## Creation of a self-loop\n",
    "\n",
    "A self-loop is created when an edge is spliced with itself. Given the orientation of the original edge, there are two ways to do this, depending on whether the final loop is in the face to the left or right of the edge, as one travels along its orientation. In either case, two new edges are created -- the loop itself, and the edge after the self-loop in the Eulerian circuit. This creates one new node, two new edges, and one new face inside the self-loop.\n",
    "\n",
    "![](img/self-loop.png)\n",
    "\n",
    "The original edge $e_1$ is given by the ordered pair $(a, b)$. After the splice, there is a new node $c$. The edge $e_1$ is now given by the ordered pair $(a, c$), while the new edges $e_2$ and the self-loop $e_3$ are the pairs $(c, b)$ and $(c, c$), respectively. In the case shown above, the oriented-signed symbols for $e_3$ would be $(c^-, c^+)$; if the loop was in the right-hand face, then the symbols would have been reversed. The new edge $e_2$ is adjacent to the same faces as $e_1$, while the face on the right of $e_3$ is the same as that on the left of $e_1$ and $e_2$. On the other hand, the left-hand face for $e_3$ is a new one, created by the self-loop."
   ]
  },
  {
   "cell_type": "markdown",
   "id": "0f01b61b-b430-4b85-9cfa-39d1ee9d27c1",
   "metadata": {},
   "source": [
    "## Splicing distinct edges\n",
    "\n",
    "When two distinct edges are to be spliced together, one must first check that (1) they are on the same face, and (2) their rotation around this face is in the same direction, either clockwise or counterclockwise. If these two conditions are not met, then the two edges cannot be spliced together. Condition (1) is essential, so that only one node is created by the splice. If the two edges were not on the same face, then an even (non-zero) number of nodes would be created to move one edge \"close\" to the other. Condition (2) ensures that an Eulerian circuit can be created through the new, spliced graph. This new graph is obtained up to reversal of one part of the sequence, but the two possibilities of how to do this are the same under a global reversal of the ordering. If the two edges have opposite rotations around the face, then the only way to combine them into a new node splits the Eulerian circuit into two disjoint pieces. Only when the rotations are in the same direction does the circuit pass through all edges of the graph.\n",
    "\n",
    "We can look at the process in separate steps. First, we splice the edges together, but keep the Eulerian circuit the same; this means the circuit passes through the new node improperly. The second step is to reverse the orientations of the edges in one part of the graph, so that the new node becomes proper. These steps are illustrated below.\n",
    "\n",
    "![](img/distinct-edges.png)\n",
    "\n",
    "Before the splice, there are two distinct edges $e_1$ and $e_2$ which rotate clockwise around the common face $f_1$ between them. There are two other faces unaffected by the splice, one on the other side of each edge. The two edges are spliced together to form a new node $c$, as well as two new edges -- $e_3$ given by the ordered pair $(c, b_1)$, and $e_4$, described by the pair $(a_2, c)$. In addition, a new face $f_2$ is created. Note that this new face is bordered by all the edges traversed along the Eulerian circuit between the nodes $b_1$ and $a_2$, in addition to the two new edges. The old face $f_1$ keeps all the edges before $a_1$ and after $a_2$, and the old edges $e_1$ and $e_2$. Then, the orientations of the edges along the loop $a_2 c b_1$ are reversed, so that the node $c$ is now proper. As a result of this, the new edges $e_3$ and $e_4$ are now given by the ordered pairs $(b_1, c)$ and $(c, a_2)$, respectively. As a result of this process, the unsigned Gauss code has changed (up to reversal or a change in the first symbol) from $\\cdots a_1 b_1 \\cdots a_2 b_2 \\cdots$ to $\\cdots a_1 c a_2 \\cdots b_1 c b_2 \\cdots$. When passing through the node $c$ from $a_1$ to $a_2$, the symbol shown in the illustration above is $c^-$, while passing from $b_1$ to $b_2$ gives the symbol $c^+$."
   ]
  }
 ],
 "metadata": {
  "kernelspec": {
   "display_name": "Python 3 (ipykernel)",
   "language": "python",
   "name": "python3"
  },
  "language_info": {
   "codemirror_mode": {
    "name": "ipython",
    "version": 3
   },
   "file_extension": ".py",
   "mimetype": "text/x-python",
   "name": "python",
   "nbconvert_exporter": "python",
   "pygments_lexer": "ipython3",
   "version": "3.11.5"
  }
 },
 "nbformat": 4,
 "nbformat_minor": 5
}
